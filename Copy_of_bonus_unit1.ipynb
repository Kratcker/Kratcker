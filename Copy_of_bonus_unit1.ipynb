{
  "cells": [
    {
      "cell_type": "markdown",
      "metadata": {
        "id": "view-in-github",
        "colab_type": "text"
      },
      "source": [
        "<a href=\"https://colab.research.google.com/github/Kratcker/Kratcker/blob/main/Copy_of_bonus_unit1.ipynb\" target=\"_parent\"><img src=\"https://colab.research.google.com/assets/colab-badge.svg\" alt=\"Open In Colab\"/></a>"
      ]
    },
    {
      "cell_type": "code",
      "source": [
        "behaviors:\n",
        "  Huggy:\n",
        "    trainer_type: ppo\n",
        "    hyperparameters:\n",
        "      batch_size: 2048\n",
        "      buffer_size: 20480\n",
        "      learning_rate: 0.0003\n",
        "      beta: 0.005\n",
        "      epsilon: 0.2\n",
        "      lambd: 0.95\n",
        "      num_epoch: 3\n",
        "      learning_rate_schedule: linear\n",
        "    network_settings:\n",
        "      normalize: true\n",
        "      hidden_units: 512\n",
        "      num_layers: 3\n",
        "      vis_encode_type: simple\n",
        "    reward_signals:\n",
        "      extrinsic:\n",
        "        gamma: 0.995\n",
        "        strength: 1.0\n",
        "    checkpoint_interval: 200000\n",
        "    keep_checkpoints: 15\n",
        "    max_steps: 2e6\n",
        "    time_horizon: 1000\n",
        "    summary_freq: 50000"
      ],
      "metadata": {
        "id": "TdkId2eCMiPq"
      },
      "execution_count": null,
      "outputs": []
    },
    {
      "cell_type": "markdown",
      "metadata": {
        "id": "2D3NL_e4crQv"
      },
      "source": [
        "# Bonus Unit 1: Let's train Huggy the Dog 🐶 to fetch a stick"
      ]
    },
    {
      "cell_type": "markdown",
      "source": [
        "<img src=\"https://huggingface.co/datasets/huggingface-deep-rl-course/course-images/resolve/main/en/unit2/thumbnail.png\" alt=\"Bonus Unit 1Thumbnail\">\n",
        "\n",
        "In this notebook, we'll reinforce what we learned in the first Unit by **teaching Huggy the Dog to fetch the stick and then play with it directly in your browser**\n",
        "\n",
        "⬇️ Here is an example of what **you will achieve at the end of the unit.** ⬇️ (launch ▶ to see)"
      ],
      "metadata": {
        "id": "FMYrDriDujzX"
      }
    },
    {
      "cell_type": "code",
      "source": [
        "%%html\n",
        "<video controls autoplay><source src=\"https://huggingface.co/datasets/huggingface-deep-rl-course/course-images/resolve/main/en/notebooks/unit-bonus1/huggy.mp4\" type=\"video/mp4\"></video>"
      ],
      "metadata": {
        "id": "PnVhs1yYNyUF"
      },
      "execution_count": null,
      "outputs": []
    },
    {
      "cell_type": "markdown",
      "source": [
        "### The environment 🎮\n",
        "\n",
        "- Huggy the Dog, an environment created by [Thomas Simonini](https://twitter.com/ThomasSimonini) based on [Puppo The Corgi](https://blog.unity.com/technology/puppo-the-corgi-cuteness-overload-with-the-unity-ml-agents-toolkit)\n",
        "\n",
        "### The library used 📚\n",
        "\n",
        "- [MLAgents](https://github.com/Unity-Technologies/ml-agents)"
      ],
      "metadata": {
        "id": "x7oR6R-ZIbeS"
      }
    },
    {
      "cell_type": "markdown",
      "source": [
        "We're constantly trying to improve our tutorials, so **if you find some issues in this notebook**, please [open an issue on the Github Repo](https://github.com/huggingface/deep-rl-class/issues)."
      ],
      "metadata": {
        "id": "60yACvZwO0Cy"
      }
    },
    {
      "cell_type": "markdown",
      "source": [
        "## Objectives of this notebook 🏆\n",
        "\n",
        "At the end of the notebook, you will:\n",
        "\n",
        "- Understand **the state space, action space and reward function used to train Huggy**.\n",
        "- **Train your own Huggy** to fetch the stick.\n",
        "- Be able to play **with your trained Huggy directly in your browser**.\n",
        "\n",
        "\n"
      ],
      "metadata": {
        "id": "Oks-ETYdO2Dc"
      }
    },
    {
      "cell_type": "markdown",
      "source": [
        "## This notebook is from Deep Reinforcement Learning Course\n",
        "<img src=\"https://huggingface.co/datasets/huggingface-deep-rl-course/course-images/resolve/main/en/notebooks/deep-rl-course-illustration.jpg\" alt=\"Deep RL Course illustration\"/>"
      ],
      "metadata": {
        "id": "mUlVrqnBv2o1"
      }
    },
    {
      "cell_type": "markdown",
      "source": [
        "In this free course, you will:\n",
        "\n",
        "- 📖 Study Deep Reinforcement Learning in **theory and practice**.\n",
        "- 🧑‍💻 Learn to **use famous Deep RL libraries** such as Stable Baselines3, RL Baselines3 Zoo, CleanRL and Sample Factory 2.0.\n",
        "- 🤖 Train **agents in unique environments**\n",
        "\n",
        "And more check 📚 the syllabus 👉 https://simoninithomas.github.io/deep-rl-course\n",
        "\n",
        "Don’t forget to **<a href=\"http://eepurl.com/ic5ZUD\">sign up to the course</a>** (we are collecting your email to be able to **send you the links when each Unit is published and give you information about the challenges and updates).**\n",
        "\n",
        "\n",
        "The best way to keep in touch is to join our discord server to exchange with the community and with us 👉🏻 https://discord.gg/ydHrjt3WP5"
      ],
      "metadata": {
        "id": "pAMjaQpHwB_s"
      }
    },
    {
      "cell_type": "markdown",
      "source": [
        "## Prerequisites 🏗️\n",
        "\n",
        "Before diving into the notebook, you need to:\n",
        "\n",
        "🔲 📚 **Develop an understanding of the foundations of Reinforcement learning** (MC, TD, Rewards hypothesis...) by doing Unit 1\n",
        "\n",
        "🔲 📚 **Read the introduction to Huggy** by doing Bonus Unit 1"
      ],
      "metadata": {
        "id": "6r7Hl0uywFSO"
      }
    },
    {
      "cell_type": "markdown",
      "source": [
        "## Set the GPU 💪\n",
        "- To **accelerate the agent's training, we'll use a GPU**. To do that, go to `Runtime > Change Runtime type`\n",
        "\n",
        "<img src=\"https://huggingface.co/datasets/huggingface-deep-rl-course/course-images/resolve/main/en/notebooks/gpu-step1.jpg\" alt=\"GPU Step 1\">"
      ],
      "metadata": {
        "id": "DssdIjk_8vZE"
      }
    },
    {
      "cell_type": "markdown",
      "source": [
        "- `Hardware Accelerator > GPU`\n",
        "\n",
        "<img src=\"https://huggingface.co/datasets/huggingface-deep-rl-course/course-images/resolve/main/en/notebooks/gpu-step2.jpg\" alt=\"GPU Step 2\">"
      ],
      "metadata": {
        "id": "sTfCXHy68xBv"
      }
    },
    {
      "cell_type": "markdown",
      "metadata": {
        "id": "an3ByrXYQ4iK"
      },
      "source": [
        "## Clone the repository and install the dependencies 🔽\n",
        "\n",
        "- We need to clone the repository, that contains **ML-Agents.**"
      ]
    },
    {
      "cell_type": "code",
      "execution_count": 1,
      "metadata": {
        "id": "6WNoL04M7rTa"
      },
      "outputs": [],
      "source": [
        "%%capture\n",
        "# Clone the repository (can take 3min)\n",
        "!git clone --depth 1 https://github.com/Unity-Technologies/ml-agents"
      ]
    },
    {
      "cell_type": "code",
      "execution_count": 2,
      "metadata": {
        "id": "d8wmVcMk7xKo"
      },
      "outputs": [],
      "source": [
        "%%capture\n",
        "# Go inside the repository and install the package (can take 3min)\n",
        "%cd ml-agents\n",
        "!pip3 install -e ./ml-agents-envs\n",
        "!pip3 install -e ./ml-agents"
      ]
    },
    {
      "cell_type": "markdown",
      "metadata": {
        "id": "HRY5ufKUKfhI"
      },
      "source": [
        "## Download and move the environment zip file in `./trained-envs-executables/linux/`\n",
        "\n",
        "- Our environment executable is in a zip file.\n",
        "- We need to download it and place it to `./trained-envs-executables/linux/`"
      ]
    },
    {
      "cell_type": "code",
      "execution_count": 3,
      "metadata": {
        "id": "C9Ls6_6eOKiA"
      },
      "outputs": [],
      "source": [
        "!mkdir ./trained-envs-executables\n",
        "!mkdir ./trained-envs-executables/linux"
      ]
    },
    {
      "cell_type": "code",
      "source": [
        "!wget --load-cookies /tmp/cookies.txt \"https://docs.google.com/uc?export=download&confirm=$(wget --quiet --save-cookies /tmp/cookies.txt --keep-session-cookies --no-check-certificate 'https://docs.google.com/uc?export=download&id=1zv3M95ZJTWHUVOWT6ckq_cm98nft8gdF' -O- | sed -rn 's/.*confirm=([0-9A-Za-z_]+).*/\\1\\n/p')&id=1zv3M95ZJTWHUVOWT6ckq_cm98nft8gdF\" -O ./trained-envs-executables/linux/Huggy.zip && rm -rf /tmp/cookies.txt"
      ],
      "metadata": {
        "id": "EB-G-80GsxYN",
        "colab": {
          "base_uri": "https://localhost:8080/"
        },
        "outputId": "cc32aafe-5602-4b00-d9b6-61f8290a8ecc"
      },
      "execution_count": 4,
      "outputs": [
        {
          "output_type": "stream",
          "name": "stdout",
          "text": [
            "--2023-11-15 22:50:35--  https://docs.google.com/uc?export=download&confirm=t&id=1zv3M95ZJTWHUVOWT6ckq_cm98nft8gdF\n",
            "Resolving docs.google.com (docs.google.com)... 142.251.171.100, 142.251.171.113, 142.251.171.138, ...\n",
            "Connecting to docs.google.com (docs.google.com)|142.251.171.100|:443... connected.\n",
            "HTTP request sent, awaiting response... 303 See Other\n",
            "Location: https://doc-0k-28-docs.googleusercontent.com/docs/securesc/ha0ro937gcuc7l7deffksulhg5h7mbp1/gp4kd7kr5jochio8ls0t4ktih439c1ho/1700088600000/15803371278684422230/*/1zv3M95ZJTWHUVOWT6ckq_cm98nft8gdF?e=download&uuid=5db3de05-8884-4030-910f-31ccabcbdedb [following]\n",
            "Warning: wildcards not supported in HTTP.\n",
            "--2023-11-15 22:50:36--  https://doc-0k-28-docs.googleusercontent.com/docs/securesc/ha0ro937gcuc7l7deffksulhg5h7mbp1/gp4kd7kr5jochio8ls0t4ktih439c1ho/1700088600000/15803371278684422230/*/1zv3M95ZJTWHUVOWT6ckq_cm98nft8gdF?e=download&uuid=5db3de05-8884-4030-910f-31ccabcbdedb\n",
            "Resolving doc-0k-28-docs.googleusercontent.com (doc-0k-28-docs.googleusercontent.com)... 64.233.183.132, 2607:f8b0:4001:c0b::84\n",
            "Connecting to doc-0k-28-docs.googleusercontent.com (doc-0k-28-docs.googleusercontent.com)|64.233.183.132|:443... connected.\n",
            "HTTP request sent, awaiting response... 200 OK\n",
            "Length: 39214997 (37M) [application/x-zip-compressed]\n",
            "Saving to: ‘./trained-envs-executables/linux/Huggy.zip’\n",
            "\n",
            "./trained-envs-exec 100%[===================>]  37.40M  91.8MB/s    in 0.4s    \n",
            "\n",
            "2023-11-15 22:50:36 (91.8 MB/s) - ‘./trained-envs-executables/linux/Huggy.zip’ saved [39214997/39214997]\n",
            "\n"
          ]
        }
      ]
    },
    {
      "cell_type": "markdown",
      "metadata": {
        "id": "jsoZGxr1MIXY"
      },
      "source": [
        "Download the file Huggy.zip from https://drive.google.com/uc?export=download&id=1zv3M95ZJTWHUVOWT6ckq_cm98nft8gdF using `wget`. Check out the full solution to download large files from GDrive [here](https://bcrf.biochem.wisc.edu/2021/02/05/download-google-drive-files-using-wget/)"
      ]
    },
    {
      "cell_type": "code",
      "execution_count": 5,
      "metadata": {
        "id": "8FPx0an9IAwO"
      },
      "outputs": [],
      "source": [
        "%%capture\n",
        "!unzip -d ./trained-envs-executables/linux/ ./trained-envs-executables/linux/Huggy.zip"
      ]
    },
    {
      "cell_type": "markdown",
      "metadata": {
        "id": "nyumV5XfPKzu"
      },
      "source": [
        "Make sure your file is accessible"
      ]
    },
    {
      "cell_type": "code",
      "execution_count": 6,
      "metadata": {
        "id": "EdFsLJ11JvQf"
      },
      "outputs": [],
      "source": [
        "!chmod -R 755 ./trained-envs-executables/linux/Huggy"
      ]
    },
    {
      "cell_type": "markdown",
      "source": [
        "## Let's recap how this environment works\n",
        "\n",
        "### The State Space: what Huggy \"perceives.\"\n",
        "\n",
        "Huggy doesn't \"see\" his environment. Instead, we provide him information about the environment:\n",
        "\n",
        "- The target (stick) position\n",
        "- The relative position between himself and the target\n",
        "- The orientation of his legs.\n",
        "\n",
        "Given all this information, Huggy **can decide which action to take next to fulfill his goal**.\n",
        "\n",
        "<img src=\"https://huggingface.co/datasets/huggingface-deep-rl-course/course-images/resolve/main/en/notebooks/unit-bonus1/huggy.jpg\" alt=\"Huggy\" width=\"100%\">\n",
        "\n",
        "\n",
        "### The Action Space: what moves Huggy can do\n",
        "<img src=\"https://huggingface.co/datasets/huggingface-deep-rl-course/course-images/resolve/main/en/notebooks/unit-bonus1/huggy-action.jpg\" alt=\"Huggy action\" width=\"100%\">\n",
        "\n",
        "**Joint motors drive huggy legs**. It means that to get the target, Huggy needs to **learn to rotate the joint motors of each of his legs correctly so he can move**.\n",
        "\n",
        "### The Reward Function\n",
        "\n",
        "The reward function is designed so that **Huggy will fulfill his goal** : fetch the stick.\n",
        "\n",
        "Remember that one of the foundations of Reinforcement Learning is the *reward hypothesis*: a goal can be described as the **maximization of the expected cumulative reward**.\n",
        "\n",
        "Here, our goal is that Huggy **goes towards the stick but without spinning too much**. Hence, our reward function must translate this goal.\n",
        "\n",
        "Our reward function:\n",
        "\n",
        "<img src=\"https://huggingface.co/datasets/huggingface-deep-rl-course/course-images/resolve/main/en/notebooks/unit-bonus1/reward.jpg\" alt=\"Huggy reward function\" width=\"100%\">\n",
        "\n",
        "- *Orientation bonus*: we **reward him for getting close to the target**.\n",
        "- *Time penalty*: a fixed-time penalty given at every action to **force him to get to the stick as fast as possible**.\n",
        "- *Rotation penalty*: we penalize Huggy if **he spins too much and turns too quickly**.\n",
        "- *Getting to the target reward*: we reward Huggy for **reaching the target**."
      ],
      "metadata": {
        "id": "dYKVj8yUvj55"
      }
    },
    {
      "cell_type": "markdown",
      "source": [
        "## Create the Huggy config file\n",
        "\n",
        "- In ML-Agents, you define the **training hyperparameters into config.yaml files.**\n",
        "\n",
        "- For the scope of this notebook, we're not going to modify the hyperparameters, but if you want to try as an experiment, you should also try to modify some other hyperparameters, Unity provides very [good documentation explaining each of them here](https://github.com/Unity-Technologies/ml-agents/blob/main/docs/Training-Configuration-File.md).\n",
        "\n",
        "- But we need to create a config file for Huggy.\n",
        "\n",
        "  - To do that click on Folder logo on the left of your screen.\n",
        "\n",
        "  <img src=\"https://huggingface.co/datasets/huggingface-deep-rl-course/course-images/resolve/main/en/unit1/create_file.png\" alt=\"Create file\" width=\"10%\">\n",
        "\n",
        "  - Go to `/content/ml-agents/config/ppo`\n",
        "  - Right mouse click and create a new file called `Huggy.yaml`\n",
        "\n",
        "  <img src=\"https://huggingface.co/datasets/huggingface-deep-rl-course/course-images/resolve/main/en/unit1/create-huggy.png\" alt=\"Create huggy.yaml\" width=\"20%\">\n",
        "\n",
        "- Copy and paste the content below 🔽"
      ],
      "metadata": {
        "id": "NAuEq32Mwvtz"
      }
    },
    {
      "cell_type": "code",
      "source": [
        "behaviors:\n",
        "  Huggy:\n",
        "    trainer_type: ppo\n",
        "    hyperparameters:\n",
        "      batch_size: 2048\n",
        "      buffer_size: 20480\n",
        "      learning_rate: 0.0003\n",
        "      beta: 0.005\n",
        "      epsilon: 0.2\n",
        "      lambd: 0.95\n",
        "      num_epoch: 3\n",
        "      learning_rate_schedule: linear\n",
        "    network_settings:\n",
        "      normalize: true\n",
        "      hidden_units: 512\n",
        "      num_layers: 3\n",
        "      vis_encode_type: simple\n",
        "    reward_signals:\n",
        "      extrinsic:\n",
        "        gamma: 0.995\n",
        "        strength: 1.0\n",
        "    checkpoint_interval: 200000\n",
        "    keep_checkpoints: 15\n",
        "    max_steps: 2e6\n",
        "    time_horizon: 1000\n",
        "    summary_freq: 50000"
      ],
      "metadata": {
        "id": "loQ0N5jhXW71"
      },
      "execution_count": null,
      "outputs": []
    },
    {
      "cell_type": "markdown",
      "source": [
        "- Don't forget to save the file!"
      ],
      "metadata": {
        "id": "oakN7UHwXdCX"
      }
    },
    {
      "cell_type": "markdown",
      "source": [
        "- **In the case you want to modify the hyperparameters**, in Google Colab notebook, you can click here to open the config.yaml: `/content/ml-agents/config/ppo/Huggy.yaml`\n",
        "\n",
        "- For instance **if you want to save more models during the training** (for now, we save every 200,000 training timesteps). You need to modify:\n",
        "  - `checkpoint_interval`: The number of training timesteps collected between each checkpoint.\n",
        "  - `keep_checkpoints`: The maximum number of model checkpoints to keep.\n",
        "\n",
        "=> Just keep in mind that **decreasing the `checkpoint_interval` means more models to upload to the Hub and so a longer uploading time**\n",
        "We’re now ready to train our agent 🔥."
      ],
      "metadata": {
        "id": "r9wv5NYGw-05"
      }
    },
    {
      "cell_type": "markdown",
      "metadata": {
        "id": "f9fI555bO12v"
      },
      "source": [
        "## Train our agent\n",
        "\n",
        "To train our agent, we just need to **launch mlagents-learn and select the executable containing the environment.**\n",
        "\n",
        "<img src=\"https://huggingface.co/datasets/huggingface-deep-rl-course/course-images/resolve/main/en/notebooks/unit-bonus1/mllearn.png\" alt=\"ml learn function\" width=\"100%\">\n",
        "\n",
        "With ML Agents, we run a training script. We define four parameters:\n",
        "\n",
        "1. `mlagents-learn <config>`: the path where the hyperparameter config file is.\n",
        "2. `--env`: where the environment executable is.\n",
        "3. `--run_id`: the name you want to give to your training run id.\n",
        "4. `--no-graphics`: to not launch the visualization during the training.\n",
        "\n",
        "Train the model and use the `--resume` flag to continue training in case of interruption.\n",
        "\n",
        "> It will fail first time when you use `--resume`, try running the block again to bypass the error.\n",
        "\n"
      ]
    },
    {
      "cell_type": "markdown",
      "source": [
        "The training will take 30 to 45min depending on your machine (don't forget to **set up a GPU**), go take a ☕️you deserve it 🤗."
      ],
      "metadata": {
        "id": "lN32oWF8zPjs"
      }
    },
    {
      "cell_type": "code",
      "execution_count": 10,
      "metadata": {
        "id": "bS-Yh1UdHfzy",
        "colab": {
          "base_uri": "https://localhost:8080/"
        },
        "outputId": "6857def0-9365-4f65-c3d4-3a97a372e047"
      },
      "outputs": [
        {
          "output_type": "stream",
          "name": "stdout",
          "text": [
            "/usr/local/lib/python3.10/dist-packages/torch/__init__.py:614: UserWarning: torch.set_default_tensor_type() is deprecated as of PyTorch 2.1, please use torch.set_default_dtype() and torch.set_default_device() as alternatives. (Triggered internally at ../torch/csrc/tensor/python_tensor.cpp:451.)\n",
            "  _C._set_default_tensor_type(t)\n",
            "2023-11-15 22:56:17.076599: E tensorflow/compiler/xla/stream_executor/cuda/cuda_dnn.cc:9342] Unable to register cuDNN factory: Attempting to register factory for plugin cuDNN when one has already been registered\n",
            "2023-11-15 22:56:17.076665: E tensorflow/compiler/xla/stream_executor/cuda/cuda_fft.cc:609] Unable to register cuFFT factory: Attempting to register factory for plugin cuFFT when one has already been registered\n",
            "2023-11-15 22:56:17.076706: E tensorflow/compiler/xla/stream_executor/cuda/cuda_blas.cc:1518] Unable to register cuBLAS factory: Attempting to register factory for plugin cuBLAS when one has already been registered\n",
            "2023-11-15 22:56:17.084440: I tensorflow/core/platform/cpu_feature_guard.cc:182] This TensorFlow binary is optimized to use available CPU instructions in performance-critical operations.\n",
            "To enable the following instructions: AVX2 FMA, in other operations, rebuild TensorFlow with the appropriate compiler flags.\n",
            "\n",
            "            ┐  ╖\n",
            "        ╓╖╬│╡  ││╬╖╖\n",
            "    ╓╖╬│││││┘  ╬│││││╬╖\n",
            " ╖╬│││││╬╜        ╙╬│││││╖╖                               ╗╗╗\n",
            " ╬╬╬╬╖││╦╖        ╖╬││╗╣╣╣╬      ╟╣╣╬    ╟╣╣╣             ╜╜╜  ╟╣╣\n",
            " ╬╬╬╬╬╬╬╬╖│╬╖╖╓╬╪│╓╣╣╣╣╣╣╣╬      ╟╣╣╬    ╟╣╣╣ ╒╣╣╖╗╣╣╣╗   ╣╣╣ ╣╣╣╣╣╣ ╟╣╣╖   ╣╣╣\n",
            " ╬╬╬╬┐  ╙╬╬╬╬│╓╣╣╣╝╜  ╫╣╣╣╬      ╟╣╣╬    ╟╣╣╣ ╟╣╣╣╙ ╙╣╣╣  ╣╣╣ ╙╟╣╣╜╙  ╫╣╣  ╟╣╣\n",
            " ╬╬╬╬┐     ╙╬╬╣╣      ╫╣╣╣╬      ╟╣╣╬    ╟╣╣╣ ╟╣╣╬   ╣╣╣  ╣╣╣  ╟╣╣     ╣╣╣┌╣╣╜\n",
            " ╬╬╬╜       ╬╬╣╣      ╙╝╣╣╬      ╙╣╣╣╗╖╓╗╣╣╣╜ ╟╣╣╬   ╣╣╣  ╣╣╣  ╟╣╣╦╓    ╣╣╣╣╣\n",
            " ╙   ╓╦╖    ╬╬╣╣   ╓╗╗╖            ╙╝╣╣╣╣╝╜   ╘╝╝╜   ╝╝╝  ╝╝╝   ╙╣╣╣    ╟╣╣╣\n",
            "   ╩╬╬╬╬╬╬╦╦╬╬╣╣╗╣╣╣╣╣╣╣╝                                             ╫╣╣╣╣\n",
            "      ╙╬╬╬╬╬╬╬╣╣╣╣╣╣╝╜\n",
            "          ╙╬╬╬╣╣╣╜\n",
            "             ╙\n",
            "        \n",
            " Version information:\n",
            "  ml-agents: 1.1.0.dev0,\n",
            "  ml-agents-envs: 1.1.0.dev0,\n",
            "  Communicator API: 1.5.0,\n",
            "  PyTorch: 2.1.0+cu118\n",
            "[INFO] Connected to Unity environment with package version 2.2.1-exp.1 and communication version 1.5.0\n",
            "[INFO] Connected new brain: Huggy?team=0\n",
            "[INFO] Hyperparameters for behavior name Huggy: \n",
            "\ttrainer_type:\tppo\n",
            "\thyperparameters:\t\n",
            "\t  batch_size:\t2048\n",
            "\t  buffer_size:\t20480\n",
            "\t  learning_rate:\t0.0003\n",
            "\t  beta:\t0.005\n",
            "\t  epsilon:\t0.2\n",
            "\t  lambd:\t0.96\n",
            "\t  num_epoch:\t3\n",
            "\t  shared_critic:\tFalse\n",
            "\t  learning_rate_schedule:\tlinear\n",
            "\t  beta_schedule:\tlinear\n",
            "\t  epsilon_schedule:\tlinear\n",
            "\tcheckpoint_interval:\t200000\n",
            "\tnetwork_settings:\t\n",
            "\t  normalize:\tTrue\n",
            "\t  hidden_units:\t512\n",
            "\t  num_layers:\t3\n",
            "\t  vis_encode_type:\tsimple\n",
            "\t  memory:\tNone\n",
            "\t  goal_conditioning_type:\thyper\n",
            "\t  deterministic:\tFalse\n",
            "\treward_signals:\t\n",
            "\t  extrinsic:\t\n",
            "\t    gamma:\t0.995\n",
            "\t    strength:\t1.0\n",
            "\t    network_settings:\t\n",
            "\t      normalize:\tFalse\n",
            "\t      hidden_units:\t128\n",
            "\t      num_layers:\t2\n",
            "\t      vis_encode_type:\tsimple\n",
            "\t      memory:\tNone\n",
            "\t      goal_conditioning_type:\thyper\n",
            "\t      deterministic:\tFalse\n",
            "\tinit_path:\tNone\n",
            "\tkeep_checkpoints:\t15\n",
            "\teven_checkpoints:\tFalse\n",
            "\tmax_steps:\t2000000\n",
            "\ttime_horizon:\t1000\n",
            "\tsummary_freq:\t50000\n",
            "\tthreaded:\tFalse\n",
            "\tself_play:\tNone\n",
            "\tbehavioral_cloning:\tNone\n",
            "[INFO] Huggy. Step: 50000. Time Elapsed: 73.702 s. Mean Reward: 1.718. Std of Reward: 0.825. Training.\n",
            "[INFO] Huggy. Step: 100000. Time Elapsed: 132.565 s. Mean Reward: 2.741. Std of Reward: 1.210. Training.\n",
            "[INFO] Huggy. Step: 150000. Time Elapsed: 193.783 s. Mean Reward: 3.152. Std of Reward: 1.267. Training.\n",
            "[INFO] Huggy. Step: 200000. Time Elapsed: 253.941 s. Mean Reward: 3.323. Std of Reward: 1.438. Training.\n",
            "[INFO] Exported results/Huggy/Huggy/Huggy-199753.onnx\n",
            "[INFO] Huggy. Step: 250000. Time Elapsed: 323.777 s. Mean Reward: 3.636. Std of Reward: 1.414. Training.\n",
            "[INFO] Huggy. Step: 300000. Time Elapsed: 388.916 s. Mean Reward: 3.728. Std of Reward: 1.535. Training.\n",
            "[INFO] Huggy. Step: 350000. Time Elapsed: 453.070 s. Mean Reward: 3.973. Std of Reward: 1.514. Training.\n",
            "[INFO] Huggy. Step: 400000. Time Elapsed: 517.579 s. Mean Reward: 3.722. Std of Reward: 1.610. Training.\n",
            "[INFO] Exported results/Huggy/Huggy/Huggy-399908.onnx\n",
            "[INFO] Huggy. Step: 450000. Time Elapsed: 578.397 s. Mean Reward: 3.865. Std of Reward: 1.647. Training.\n",
            "[INFO] Huggy. Step: 500000. Time Elapsed: 642.448 s. Mean Reward: 3.814. Std of Reward: 1.576. Training.\n",
            "[INFO] Huggy. Step: 550000. Time Elapsed: 702.201 s. Mean Reward: 3.738. Std of Reward: 1.763. Training.\n",
            "[INFO] Huggy. Step: 600000. Time Elapsed: 767.000 s. Mean Reward: 3.640. Std of Reward: 1.680. Training.\n",
            "[INFO] Exported results/Huggy/Huggy/Huggy-599910.onnx\n",
            "[INFO] Huggy. Step: 650000. Time Elapsed: 828.228 s. Mean Reward: 3.842. Std of Reward: 1.606. Training.\n",
            "[INFO] Huggy. Step: 700000. Time Elapsed: 888.018 s. Mean Reward: 3.774. Std of Reward: 1.656. Training.\n",
            "[INFO] Huggy. Step: 750000. Time Elapsed: 952.739 s. Mean Reward: 3.862. Std of Reward: 1.678. Training.\n",
            "[INFO] Huggy. Step: 800000. Time Elapsed: 1014.412 s. Mean Reward: 3.818. Std of Reward: 1.663. Training.\n",
            "[INFO] Exported results/Huggy/Huggy/Huggy-799968.onnx\n",
            "[INFO] Huggy. Step: 850000. Time Elapsed: 1079.031 s. Mean Reward: 3.858. Std of Reward: 1.576. Training.\n",
            "[INFO] Huggy. Step: 900000. Time Elapsed: 1140.147 s. Mean Reward: 3.909. Std of Reward: 1.634. Training.\n",
            "[INFO] Huggy. Step: 950000. Time Elapsed: 1204.550 s. Mean Reward: 3.882. Std of Reward: 1.669. Training.\n",
            "[INFO] Huggy. Step: 1000000. Time Elapsed: 1265.803 s. Mean Reward: 3.805. Std of Reward: 1.745. Training.\n",
            "[INFO] Exported results/Huggy/Huggy/Huggy-999977.onnx\n",
            "[INFO] Huggy. Step: 1050000. Time Elapsed: 1325.748 s. Mean Reward: 3.800. Std of Reward: 1.763. Training.\n",
            "[INFO] Huggy. Step: 1100000. Time Elapsed: 1388.831 s. Mean Reward: 3.902. Std of Reward: 1.746. Training.\n",
            "[INFO] Huggy. Step: 1200000. Time Elapsed: 1514.274 s. Mean Reward: 3.809. Std of Reward: 1.765. Training.\n",
            "[INFO] Exported results/Huggy/Huggy/Huggy-1199930.onnx\n",
            "[INFO] Huggy. Step: 1250000. Time Elapsed: 1574.695 s. Mean Reward: 3.966. Std of Reward: 1.795. Training.\n",
            "[INFO] Huggy. Step: 1300000. Time Elapsed: 1637.848 s. Mean Reward: 3.902. Std of Reward: 1.758. Training.\n",
            "[INFO] Huggy. Step: 1350000. Time Elapsed: 1698.535 s. Mean Reward: 3.869. Std of Reward: 1.764. Training.\n",
            "[INFO] Huggy. Step: 1400000. Time Elapsed: 1762.208 s. Mean Reward: 3.865. Std of Reward: 1.681. Training.\n",
            "[INFO] Exported results/Huggy/Huggy/Huggy-1399994.onnx\n",
            "[INFO] Huggy. Step: 1450000. Time Elapsed: 1824.844 s. Mean Reward: 3.912. Std of Reward: 1.768. Training.\n",
            "[INFO] Huggy. Step: 1500000. Time Elapsed: 1890.700 s. Mean Reward: 3.862. Std of Reward: 1.692. Training.\n",
            "[INFO] Huggy. Step: 1550000. Time Elapsed: 1963.527 s. Mean Reward: 3.859. Std of Reward: 1.759. Training.\n",
            "[INFO] Huggy. Step: 1600000. Time Elapsed: 2028.881 s. Mean Reward: 3.828. Std of Reward: 1.754. Training.\n",
            "[INFO] Exported results/Huggy/Huggy/Huggy-1599920.onnx\n",
            "[INFO] Huggy. Step: 1650000. Time Elapsed: 2095.526 s. Mean Reward: 3.934. Std of Reward: 1.757. Training.\n",
            "[INFO] Huggy. Step: 1700000. Time Elapsed: 2163.650 s. Mean Reward: 3.905. Std of Reward: 1.795. Training.\n",
            "[INFO] Huggy. Step: 1750000. Time Elapsed: 2228.584 s. Mean Reward: 3.791. Std of Reward: 1.762. Training.\n",
            "[INFO] Huggy. Step: 1800000. Time Elapsed: 2290.501 s. Mean Reward: 3.943. Std of Reward: 1.721. Training.\n",
            "[INFO] Exported results/Huggy/Huggy/Huggy-1799990.onnx\n",
            "[INFO] Huggy. Step: 1850000. Time Elapsed: 2354.261 s. Mean Reward: 3.931. Std of Reward: 1.725. Training.\n",
            "[INFO] Huggy. Step: 1900000. Time Elapsed: 2420.116 s. Mean Reward: 3.835. Std of Reward: 1.756. Training.\n",
            "[INFO] Huggy. Step: 1950000. Time Elapsed: 2480.235 s. Mean Reward: 3.865. Std of Reward: 1.905. Training.\n",
            "[INFO] Huggy. Step: 2000000. Time Elapsed: 2546.457 s. Mean Reward: 3.728. Std of Reward: 1.817. Training.\n",
            "[INFO] Exported results/Huggy/Huggy/Huggy-1999933.onnx\n",
            "[INFO] Exported results/Huggy/Huggy/Huggy-2000026.onnx\n",
            "[INFO] Copied results/Huggy/Huggy/Huggy-2000026.onnx to results/Huggy/Huggy.onnx.\n"
          ]
        }
      ],
      "source": [
        "!mlagents-learn ./config/ppo/Huggy.yaml --env=./trained-envs-executables/linux/Huggy/Huggy --run-id=\"Huggy\" --no-graphics"
      ]
    },
    {
      "cell_type": "markdown",
      "metadata": {
        "id": "5Vue94AzPy1t"
      },
      "source": [
        "## Push the agent to the 🤗 Hub\n",
        "\n",
        "- Now that we trained our agent, we’re **ready to push it to the Hub to be able to play with Huggy on your browser🔥.**"
      ]
    },
    {
      "cell_type": "markdown",
      "source": [
        "To be able to share your model with the community there are three more steps to follow:\n",
        "\n",
        "1️⃣ (If it's not already done) create an account to HF ➡ https://huggingface.co/join\n",
        "\n",
        "2️⃣ Sign in and then, you need to store your authentication token from the Hugging Face website.\n",
        "- Create a new token (https://huggingface.co/settings/tokens) **with write role**\n",
        "\n",
        "<img src=\"https://huggingface.co/datasets/huggingface-deep-rl-course/course-images/resolve/main/en/notebooks/create-token.jpg\" alt=\"Create HF Token\">\n",
        "\n",
        "- Copy the token\n",
        "- Run the cell below and paste the token"
      ],
      "metadata": {
        "id": "izT6FpgNzZ6R"
      }
    },
    {
      "cell_type": "code",
      "execution_count": 11,
      "metadata": {
        "id": "rKt2vsYoK56o",
        "colab": {
          "base_uri": "https://localhost:8080/",
          "height": 145,
          "referenced_widgets": [
            "1d656483eb5b4c8882a550dcc2aaacc9",
            "aebdcb2ce0ed49dda8a9ca8a8da877b0",
            "2fc591e9f9cc4ad98950e09db86454ab",
            "609111170a43416c9e93b5dd444f5dc1",
            "7644f94722f646cebce9001b21beaa53",
            "bc94ac51d2df4f11920d07701e32c5a6",
            "7633af87a33b48e4a9b1f0fd49d77bc1",
            "c734d50b943349af8ae958ff7e77159a",
            "a71c63368d4f40359e8ca3f04b45ea08",
            "1c6749a6a6ef406da087a52c3b744987",
            "f48cbe9c29b34acdbb48747b3d228fd3",
            "f0323f73fa0f497da92ddfc9fd6a767e",
            "52fa38b1d1294ab1a38a4d08b3cb20c1",
            "a4578eb6771345dea5f3159fca2aa35b",
            "6e3884683c1f484da4567081e968b547",
            "96793f55e2474ae4bdf9811dfeae83a3",
            "f17b90bea6644c9582ecc82961a93172",
            "12c409bcc6f04345944155345395e0ed",
            "689d9ea2d51e4715b734219eb24bf3e2",
            "766f27cd665d4befa0f23e073ffbb641",
            "4ab83044576c4afdac720703f84616cc",
            "515b9a3325024bb5bc79ab2fc9a35970",
            "cd89f6332ba346f4b08012fa5777a7e0",
            "ecf3be4859d540c3af026f021db09111",
            "cee185e97a0c493a80608c018dcf9941",
            "fa859751b5ce4109bd6d1d201d5111e2",
            "852ad91eeb0c4a9590141098d2b25a2f",
            "995bbdc281ab4e8f9d2f97cc5f4ad9c3",
            "8973cd217ba74f7e96e61fe3e79f9bdf",
            "89a8f9b7306e4927a265b035c55aea4f",
            "5dcd6d2b2e8342c891d15fc78a9f6f20",
            "135ac04cec8446d7b1c9cd985d1cfb7f"
          ]
        },
        "outputId": "9c732bc9-1c8a-4b03-db6d-32e5c045c5be"
      },
      "outputs": [
        {
          "output_type": "display_data",
          "data": {
            "text/plain": [
              "VBox(children=(HTML(value='<center> <img\\nsrc=https://huggingface.co/front/assets/huggingface_logo-noborder.sv…"
            ],
            "application/vnd.jupyter.widget-view+json": {
              "version_major": 2,
              "version_minor": 0,
              "model_id": "1d656483eb5b4c8882a550dcc2aaacc9"
            }
          },
          "metadata": {}
        }
      ],
      "source": [
        "from huggingface_hub import notebook_login\n",
        "notebook_login()"
      ]
    },
    {
      "cell_type": "markdown",
      "source": [
        "If you don't want to use a Google Colab or a Jupyter Notebook, you need to use this command instead: `huggingface-cli login`"
      ],
      "metadata": {
        "id": "ew59mK19zjtN"
      }
    },
    {
      "cell_type": "markdown",
      "metadata": {
        "id": "Xi0y_VASRzJU"
      },
      "source": [
        "Then, we simply need to run `mlagents-push-to-hf`.\n",
        "\n",
        "<img src=\"https://huggingface.co/datasets/huggingface-deep-rl-course/course-images/resolve/main/en/notebooks/unit-bonus1/mlpush.png\" alt=\"ml learn function\" width=\"100%\">"
      ]
    },
    {
      "cell_type": "markdown",
      "source": [
        "And we define 4 parameters:\n",
        "\n",
        "1. `--run-id`: the name of the training run id.\n",
        "2. `--local-dir`: where the agent was saved, it’s results/<run_id name>, so in my case results/First Training.\n",
        "3. `--repo-id`: the name of the Hugging Face repo you want to create or update. It’s always <your huggingface username>/<the repo name>\n",
        "If the repo does not exist **it will be created automatically**\n",
        "4. `--commit-message`: since HF repos are git repository you need to define a commit message."
      ],
      "metadata": {
        "id": "KK4fPfnczunT"
      }
    },
    {
      "cell_type": "code",
      "execution_count": 14,
      "metadata": {
        "id": "dGEFAIboLVc6",
        "colab": {
          "base_uri": "https://localhost:8080/"
        },
        "outputId": "44ada7e6-5bad-4ef2-9885-91aabf6f09eb"
      },
      "outputs": [
        {
          "output_type": "stream",
          "name": "stdout",
          "text": [
            "[INFO] This function will create a model card and upload your HuggyTraining into HuggingFace Hub. This is a work in progress: If you encounter a bug, please send open an issue\n",
            "[INFO] Pushing repo HuggyTraining to the Hugging Face Hub\n",
            "Huggy-1199930.onnx:   0% 0.00/2.27M [00:00<?, ?B/s]\n",
            "Upload 25 LFS files:   0% 0/25 [00:00<?, ?it/s]\u001b[A\n",
            "\n",
            "Huggy-1199930.pt:   0% 0.00/13.5M [00:00<?, ?B/s]\u001b[A\u001b[A\n",
            "\n",
            "\n",
            "Huggy-1399994.onnx:   0% 0.00/2.27M [00:00<?, ?B/s]\u001b[A\u001b[A\u001b[A\n",
            "\n",
            "\n",
            "\n",
            "Huggy-1399994.pt:   0% 0.00/13.5M [00:00<?, ?B/s]\u001b[A\u001b[A\u001b[A\u001b[A\n",
            "\n",
            "\n",
            "\n",
            "\n",
            "Huggy-1599920.onnx:   0% 0.00/2.27M [00:00<?, ?B/s]\u001b[A\u001b[A\u001b[A\u001b[A\u001b[A\n",
            "\n",
            "Huggy-1199930.pt:   0% 16.4k/13.5M [00:00<08:42, 25.8kB/s]\u001b[A\u001b[A\n",
            "\n",
            "\n",
            "\n",
            "Huggy-1399994.pt:   0% 16.4k/13.5M [00:00<09:28, 23.8kB/s]\u001b[A\u001b[A\u001b[A\u001b[A\n",
            "\n",
            "\n",
            "Huggy-1199930.onnx:   1% 16.4k/2.27M [00:00<01:41, 22.3kB/s]\n",
            "\n",
            "\n",
            "\n",
            "\n",
            "Huggy-1599920.onnx:   1% 16.4k/2.27M [00:00<01:39, 22.7kB/s]\u001b[A\u001b[A\u001b[A\u001b[A\u001b[A\n",
            "\n",
            "Huggy-1199930.pt:  41% 5.55M/13.5M [00:00<00:00, 9.82MB/s]\u001b[A\u001b[A\n",
            "\n",
            "\n",
            "\n",
            "Huggy-1199930.onnx:  56% 1.28M/2.27M [00:00<00:00, 1.97MB/s]\n",
            "\n",
            "\n",
            "\n",
            "\n",
            "Huggy-1599920.onnx:  72% 1.64M/2.27M [00:00<00:00, 2.39MB/s]\u001b[A\u001b[A\u001b[A\u001b[A\u001b[A\n",
            "\n",
            "\n",
            "Huggy-1399994.onnx:  73% 1.67M/2.27M [00:00<00:00, 2.40MB/s]\u001b[A\u001b[A\u001b[A\n",
            "\n",
            "\n",
            "\n",
            "Huggy-1399994.onnx: 100% 2.27M/2.27M [00:01<00:00, 2.09MB/s]\n",
            "Huggy-1199930.onnx: 100% 2.27M/2.27M [00:01<00:00, 2.06MB/s]\n",
            "Huggy-1599920.onnx: 100% 2.27M/2.27M [00:01<00:00, 2.05MB/s]\n",
            "Huggy-1399994.pt: 100% 13.5M/13.5M [00:01<00:00, 11.0MB/s]\n",
            "Huggy-1199930.pt: 100% 13.5M/13.5M [00:01<00:00, 10.9MB/s]\n",
            "Huggy-1599920.pt:   0% 0.00/13.5M [00:00<?, ?B/s]\n",
            "Upload 25 LFS files:   4% 1/25 [00:01<00:43,  1.79s/it]\u001b[A\n",
            "\n",
            "Huggy-1599920.pt:  26% 3.49M/13.5M [00:00<00:00, 30.9MB/s]\n",
            "\n",
            "\n",
            "Huggy-1599920.pt:  53% 7.18M/13.5M [00:00<00:00, 31.4MB/s]\n",
            "\n",
            "\n",
            "Huggy-1799990.onnx: 100% 2.27M/2.27M [00:00<00:00, 10.9MB/s]\n",
            "Huggy-1799990.pt: 100% 13.5M/13.5M [00:00<00:00, 32.6MB/s]\n",
            "\n",
            "\n",
            "Huggy-199753.onnx:   0% 0.00/2.27M [00:00<?, ?B/s]\u001b[A\u001b[A\n",
            "\n",
            "\n",
            "Huggy-1599920.pt: 100% 13.5M/13.5M [00:00<00:00, 18.4MB/s]\n",
            "\n",
            "\n",
            "\n",
            "Huggy-1999933.onnx:   0% 0.00/2.27M [00:00<?, ?B/s]\n",
            "\n",
            "\n",
            "\n",
            "Huggy-199753.onnx: 100% 2.27M/2.27M [00:00<00:00, 9.16MB/s]\n",
            "\n",
            "\n",
            "Huggy.onnx:   0% 0.00/2.27M [00:00<?, ?B/s]\u001b[A\u001b[A\n",
            "\n",
            "\n",
            "\n",
            "Huggy-1999933.pt:  44% 6.00M/13.5M [00:00<00:00, 53.4MB/s]\u001b[A\u001b[A\u001b[A\u001b[A\n",
            "Upload 25 LFS files:  16% 4/25 [00:02<00:12,  1.63it/s]\u001b[A\n",
            "\n",
            "\n",
            "\n",
            "\n",
            "Huggy-1999933.onnx: 100% 2.27M/2.27M [00:00<00:00, 9.39MB/s]\n",
            "Huggy-199753.pt: 100% 13.5M/13.5M [00:00<00:00, 29.9MB/s]\n",
            "\n",
            "\n",
            "\n",
            "\n",
            "\n",
            "Huggy-399908.onnx:   0% 0.00/2.27M [00:00<?, ?B/s]\n",
            "Upload 25 LFS files:  40% 10/25 [00:02<00:03,  4.93it/s]\u001b[A\n",
            "\n",
            "\n",
            "Huggy-399908.pt:   0% 0.00/13.5M [00:00<?, ?B/s]\u001b[A\u001b[A\u001b[A\n",
            "\n",
            "\n",
            "\n",
            "\n",
            "Huggy-2000026.pt:  87% 11.8M/13.5M [00:00<00:00, 53.7MB/s]\u001b[A\u001b[A\u001b[A\u001b[A\u001b[A\n",
            "\n",
            "\n",
            "Huggy.onnx: 100% 2.27M/2.27M [00:00<00:00, 6.42MB/s]\n",
            "\n",
            "\n",
            "Huggy-1999933.pt: 100% 13.5M/13.5M [00:00<00:00, 23.8MB/s]\n",
            "\n",
            "Upload 25 LFS files:  48% 12/25 [00:03<00:02,  5.14it/s]\u001b[A\n",
            "\n",
            "\n",
            "\n",
            "Huggy-399908.onnx: 100% 2.27M/2.27M [00:00<00:00, 5.68MB/s]\n",
            "Huggy-399908.pt: 100% 13.5M/13.5M [00:00<00:00, 34.3MB/s]\n",
            "Huggy-799968.onnx:   0% 0.00/2.27M [00:00<?, ?B/s]\n",
            "\n",
            "\n",
            "\n",
            "Huggy-599910.onnx: 100% 2.27M/2.27M [00:00<00:00, 9.24MB/s]\n",
            "\n",
            "\n",
            "Huggy-799968.pt:   0% 0.00/13.5M [00:00<?, ?B/s]\u001b[A\u001b[A\n",
            "\n",
            "Huggy-799968.pt:  66% 8.86M/13.5M [00:00<00:00, 86.0MB/s]\u001b[A\u001b[A\n",
            "\n",
            "\n",
            "Huggy-799968.onnx: 100% 2.27M/2.27M [00:00<00:00, 6.51MB/s]\n",
            "Huggy-599910.pt: 100% 13.5M/13.5M [00:00<00:00, 29.3MB/s]\n",
            "Huggy-2000026.pt: 100% 13.5M/13.5M [00:00<00:00, 14.1MB/s]\n",
            "Huggy-799968.pt: 100% 13.5M/13.5M [00:00<00:00, 33.0MB/s]\n",
            "\n",
            "\n",
            "checkpoint.pt:   0% 0.00/13.5M [00:00<?, ?B/s]\u001b[A\u001b[A\n",
            "Upload 25 LFS files:  56% 14/25 [00:03<00:02,  4.46it/s]\u001b[A\n",
            "\n",
            "\n",
            "\n",
            "Huggy-999977.pt:  27% 3.70M/13.5M [00:00<00:00, 30.7MB/s]\n",
            "\n",
            "\n",
            "\n",
            "\n",
            "Huggy-999977.onnx: 100% 2.27M/2.27M [00:00<00:00, 7.98MB/s]\n",
            "\n",
            "\n",
            "checkpoint.pt:  82% 11.1M/13.5M [00:00<00:00, 111MB/s]\u001b[A\u001b[A\n",
            "events.out.tfevents.1700088977.43a463ddfcc8.2817.0: 100% 341k/341k [00:00<00:00, 1.91MB/s]\n",
            "checkpoint.pt: 100% 13.5M/13.5M [00:00<00:00, 46.0MB/s]\n",
            "Huggy.onnx: 100% 2.27M/2.27M [00:00<00:00, 10.4MB/s]\n",
            "Huggy-999977.pt: 100% 13.5M/13.5M [00:00<00:00, 21.1MB/s]\n",
            "\n",
            "Upload 25 LFS files: 100% 25/25 [00:04<00:00,  5.50it/s]\n",
            "[INFO] Your model is pushed to the hub. You can view your model here: https://huggingface.co/AlfonsoKratc/ppo-Huggy\n"
          ]
        }
      ],
      "source": [
        "!mlagents-push-to-hf --run-id=\"HuggyTraining\" --local-dir=\"./results/Huggy\" --repo-id=\"AlfonsoKratc/ppo-Huggy\" --commit-message=\"Huggy\""
      ]
    },
    {
      "cell_type": "markdown",
      "source": [
        "Else, if everything worked you should have this at the end of the process(but with a different url 😆) :\n",
        "\n",
        "\n",
        "\n",
        "```\n",
        "Your model is pushed to the hub. You can view your model here: https://huggingface.co/ThomasSimonini/ppo-Huggy\n",
        "```\n",
        "\n",
        "It’s the link to your model repository. The repository contains a model card that explains how to use the model, your Tensorboard logs and your config file. **What’s awesome is that it’s a git repository, which means you can have different commits, update your repository with a new push, open Pull Requests, etc.**\n",
        "\n",
        "<img src=\"https://huggingface.co/datasets/huggingface-deep-rl-course/course-images/resolve/main/en/notebooks/unit-bonus1/modelcard.png\" alt=\"ml learn function\" width=\"100%\">"
      ],
      "metadata": {
        "id": "yborB0850FTM"
      }
    },
    {
      "cell_type": "markdown",
      "source": [
        "But now comes the best: **being able to play with Huggy online 👀.**"
      ],
      "metadata": {
        "id": "5Uaon2cg0NrL"
      }
    },
    {
      "cell_type": "markdown",
      "source": [
        "## Play with your Huggy 🐕\n",
        "\n",
        "This step is the simplest:\n",
        "\n",
        "- Open the game Huggy in your browser: https://huggingface.co/spaces/ThomasSimonini/Huggy\n",
        "\n",
        "- Click on Play with my Huggy model\n",
        "\n",
        "<img src=\"https://huggingface.co/datasets/huggingface-deep-rl-course/course-images/resolve/main/en/notebooks/unit-bonus1/load-huggy.jpg\" alt=\"load-huggy\" width=\"100%\">"
      ],
      "metadata": {
        "id": "VMc4oOsE0QiZ"
      }
    },
    {
      "cell_type": "markdown",
      "source": [
        "1. In step 1, choose your model repository which is the model id (in my case ThomasSimonini/ppo-Huggy).\n",
        "\n",
        "2. In step 2, **choose what model you want to replay**:\n",
        "  - I have multiple ones, since we saved a model every 500000 timesteps.\n",
        "  - But since I want the more recent, I choose `Huggy.onnx`\n",
        "\n",
        "👉 What’s nice **is to try with different models steps to see the improvement of the agent.**"
      ],
      "metadata": {
        "id": "Djs8c5rR0Z8a"
      }
    },
    {
      "cell_type": "markdown",
      "source": [
        "Congrats on finishing this bonus unit!\n",
        "\n",
        "You can now sit and enjoy playing with your Huggy 🐶. And don't **forget to spread the love by sharing Huggy with your friends 🤗**. And if you share about it on social media, **please tag us @huggingface and me @simoninithomas**\n",
        "\n",
        "<img src=\"https://huggingface.co/datasets/huggingface-deep-rl-course/course-images/resolve/main/en/notebooks/unit-bonus1/huggy-cover.jpeg\" alt=\"Huggy cover\" width=\"100%\">\n",
        "\n",
        "\n",
        "## Keep Learning, Stay  awesome 🤗"
      ],
      "metadata": {
        "id": "PI6dPWmh064H"
      }
    }
  ],
  "metadata": {
    "accelerator": "GPU",
    "colab": {
      "provenance": [],
      "gpuType": "T4",
      "include_colab_link": true
    },
    "kernelspec": {
      "display_name": "Python 3",
      "name": "python3"
    },
    "language_info": {
      "name": "python"
    },
    "widgets": {
      "application/vnd.jupyter.widget-state+json": {
        "1d656483eb5b4c8882a550dcc2aaacc9": {
          "model_module": "@jupyter-widgets/controls",
          "model_name": "VBoxModel",
          "model_module_version": "1.5.0",
          "state": {
            "_dom_classes": [],
            "_model_module": "@jupyter-widgets/controls",
            "_model_module_version": "1.5.0",
            "_model_name": "VBoxModel",
            "_view_count": null,
            "_view_module": "@jupyter-widgets/controls",
            "_view_module_version": "1.5.0",
            "_view_name": "VBoxView",
            "box_style": "",
            "children": [
              "IPY_MODEL_4ab83044576c4afdac720703f84616cc",
              "IPY_MODEL_515b9a3325024bb5bc79ab2fc9a35970",
              "IPY_MODEL_cd89f6332ba346f4b08012fa5777a7e0",
              "IPY_MODEL_ecf3be4859d540c3af026f021db09111"
            ],
            "layout": "IPY_MODEL_7633af87a33b48e4a9b1f0fd49d77bc1"
          }
        },
        "aebdcb2ce0ed49dda8a9ca8a8da877b0": {
          "model_module": "@jupyter-widgets/controls",
          "model_name": "HTMLModel",
          "model_module_version": "1.5.0",
          "state": {
            "_dom_classes": [],
            "_model_module": "@jupyter-widgets/controls",
            "_model_module_version": "1.5.0",
            "_model_name": "HTMLModel",
            "_view_count": null,
            "_view_module": "@jupyter-widgets/controls",
            "_view_module_version": "1.5.0",
            "_view_name": "HTMLView",
            "description": "",
            "description_tooltip": null,
            "layout": "IPY_MODEL_c734d50b943349af8ae958ff7e77159a",
            "placeholder": "​",
            "style": "IPY_MODEL_a71c63368d4f40359e8ca3f04b45ea08",
            "value": "<center> <img\nsrc=https://huggingface.co/front/assets/huggingface_logo-noborder.svg\nalt='Hugging Face'> <br> Copy a token from <a\nhref=\"https://huggingface.co/settings/tokens\" target=\"_blank\">your Hugging Face\ntokens page</a> and paste it below. <br> Immediately click login after copying\nyour token or it might be stored in plain text in this notebook file. </center>"
          }
        },
        "2fc591e9f9cc4ad98950e09db86454ab": {
          "model_module": "@jupyter-widgets/controls",
          "model_name": "PasswordModel",
          "model_module_version": "1.5.0",
          "state": {
            "_dom_classes": [],
            "_model_module": "@jupyter-widgets/controls",
            "_model_module_version": "1.5.0",
            "_model_name": "PasswordModel",
            "_view_count": null,
            "_view_module": "@jupyter-widgets/controls",
            "_view_module_version": "1.5.0",
            "_view_name": "PasswordView",
            "continuous_update": true,
            "description": "Token:",
            "description_tooltip": null,
            "disabled": false,
            "layout": "IPY_MODEL_1c6749a6a6ef406da087a52c3b744987",
            "placeholder": "​",
            "style": "IPY_MODEL_f48cbe9c29b34acdbb48747b3d228fd3",
            "value": ""
          }
        },
        "609111170a43416c9e93b5dd444f5dc1": {
          "model_module": "@jupyter-widgets/controls",
          "model_name": "CheckboxModel",
          "model_module_version": "1.5.0",
          "state": {
            "_dom_classes": [],
            "_model_module": "@jupyter-widgets/controls",
            "_model_module_version": "1.5.0",
            "_model_name": "CheckboxModel",
            "_view_count": null,
            "_view_module": "@jupyter-widgets/controls",
            "_view_module_version": "1.5.0",
            "_view_name": "CheckboxView",
            "description": "Add token as git credential?",
            "description_tooltip": null,
            "disabled": false,
            "indent": true,
            "layout": "IPY_MODEL_f0323f73fa0f497da92ddfc9fd6a767e",
            "style": "IPY_MODEL_52fa38b1d1294ab1a38a4d08b3cb20c1",
            "value": true
          }
        },
        "7644f94722f646cebce9001b21beaa53": {
          "model_module": "@jupyter-widgets/controls",
          "model_name": "ButtonModel",
          "model_module_version": "1.5.0",
          "state": {
            "_dom_classes": [],
            "_model_module": "@jupyter-widgets/controls",
            "_model_module_version": "1.5.0",
            "_model_name": "ButtonModel",
            "_view_count": null,
            "_view_module": "@jupyter-widgets/controls",
            "_view_module_version": "1.5.0",
            "_view_name": "ButtonView",
            "button_style": "",
            "description": "Login",
            "disabled": false,
            "icon": "",
            "layout": "IPY_MODEL_a4578eb6771345dea5f3159fca2aa35b",
            "style": "IPY_MODEL_6e3884683c1f484da4567081e968b547",
            "tooltip": ""
          }
        },
        "bc94ac51d2df4f11920d07701e32c5a6": {
          "model_module": "@jupyter-widgets/controls",
          "model_name": "HTMLModel",
          "model_module_version": "1.5.0",
          "state": {
            "_dom_classes": [],
            "_model_module": "@jupyter-widgets/controls",
            "_model_module_version": "1.5.0",
            "_model_name": "HTMLModel",
            "_view_count": null,
            "_view_module": "@jupyter-widgets/controls",
            "_view_module_version": "1.5.0",
            "_view_name": "HTMLView",
            "description": "",
            "description_tooltip": null,
            "layout": "IPY_MODEL_96793f55e2474ae4bdf9811dfeae83a3",
            "placeholder": "​",
            "style": "IPY_MODEL_f17b90bea6644c9582ecc82961a93172",
            "value": "\n<b>Pro Tip:</b> If you don't already have one, you can create a dedicated\n'notebooks' token with 'write' access, that you can then easily reuse for all\nnotebooks. </center>"
          }
        },
        "7633af87a33b48e4a9b1f0fd49d77bc1": {
          "model_module": "@jupyter-widgets/base",
          "model_name": "LayoutModel",
          "model_module_version": "1.2.0",
          "state": {
            "_model_module": "@jupyter-widgets/base",
            "_model_module_version": "1.2.0",
            "_model_name": "LayoutModel",
            "_view_count": null,
            "_view_module": "@jupyter-widgets/base",
            "_view_module_version": "1.2.0",
            "_view_name": "LayoutView",
            "align_content": null,
            "align_items": "center",
            "align_self": null,
            "border": null,
            "bottom": null,
            "display": "flex",
            "flex": null,
            "flex_flow": "column",
            "grid_area": null,
            "grid_auto_columns": null,
            "grid_auto_flow": null,
            "grid_auto_rows": null,
            "grid_column": null,
            "grid_gap": null,
            "grid_row": null,
            "grid_template_areas": null,
            "grid_template_columns": null,
            "grid_template_rows": null,
            "height": null,
            "justify_content": null,
            "justify_items": null,
            "left": null,
            "margin": null,
            "max_height": null,
            "max_width": null,
            "min_height": null,
            "min_width": null,
            "object_fit": null,
            "object_position": null,
            "order": null,
            "overflow": null,
            "overflow_x": null,
            "overflow_y": null,
            "padding": null,
            "right": null,
            "top": null,
            "visibility": null,
            "width": "50%"
          }
        },
        "c734d50b943349af8ae958ff7e77159a": {
          "model_module": "@jupyter-widgets/base",
          "model_name": "LayoutModel",
          "model_module_version": "1.2.0",
          "state": {
            "_model_module": "@jupyter-widgets/base",
            "_model_module_version": "1.2.0",
            "_model_name": "LayoutModel",
            "_view_count": null,
            "_view_module": "@jupyter-widgets/base",
            "_view_module_version": "1.2.0",
            "_view_name": "LayoutView",
            "align_content": null,
            "align_items": null,
            "align_self": null,
            "border": null,
            "bottom": null,
            "display": null,
            "flex": null,
            "flex_flow": null,
            "grid_area": null,
            "grid_auto_columns": null,
            "grid_auto_flow": null,
            "grid_auto_rows": null,
            "grid_column": null,
            "grid_gap": null,
            "grid_row": null,
            "grid_template_areas": null,
            "grid_template_columns": null,
            "grid_template_rows": null,
            "height": null,
            "justify_content": null,
            "justify_items": null,
            "left": null,
            "margin": null,
            "max_height": null,
            "max_width": null,
            "min_height": null,
            "min_width": null,
            "object_fit": null,
            "object_position": null,
            "order": null,
            "overflow": null,
            "overflow_x": null,
            "overflow_y": null,
            "padding": null,
            "right": null,
            "top": null,
            "visibility": null,
            "width": null
          }
        },
        "a71c63368d4f40359e8ca3f04b45ea08": {
          "model_module": "@jupyter-widgets/controls",
          "model_name": "DescriptionStyleModel",
          "model_module_version": "1.5.0",
          "state": {
            "_model_module": "@jupyter-widgets/controls",
            "_model_module_version": "1.5.0",
            "_model_name": "DescriptionStyleModel",
            "_view_count": null,
            "_view_module": "@jupyter-widgets/base",
            "_view_module_version": "1.2.0",
            "_view_name": "StyleView",
            "description_width": ""
          }
        },
        "1c6749a6a6ef406da087a52c3b744987": {
          "model_module": "@jupyter-widgets/base",
          "model_name": "LayoutModel",
          "model_module_version": "1.2.0",
          "state": {
            "_model_module": "@jupyter-widgets/base",
            "_model_module_version": "1.2.0",
            "_model_name": "LayoutModel",
            "_view_count": null,
            "_view_module": "@jupyter-widgets/base",
            "_view_module_version": "1.2.0",
            "_view_name": "LayoutView",
            "align_content": null,
            "align_items": null,
            "align_self": null,
            "border": null,
            "bottom": null,
            "display": null,
            "flex": null,
            "flex_flow": null,
            "grid_area": null,
            "grid_auto_columns": null,
            "grid_auto_flow": null,
            "grid_auto_rows": null,
            "grid_column": null,
            "grid_gap": null,
            "grid_row": null,
            "grid_template_areas": null,
            "grid_template_columns": null,
            "grid_template_rows": null,
            "height": null,
            "justify_content": null,
            "justify_items": null,
            "left": null,
            "margin": null,
            "max_height": null,
            "max_width": null,
            "min_height": null,
            "min_width": null,
            "object_fit": null,
            "object_position": null,
            "order": null,
            "overflow": null,
            "overflow_x": null,
            "overflow_y": null,
            "padding": null,
            "right": null,
            "top": null,
            "visibility": null,
            "width": null
          }
        },
        "f48cbe9c29b34acdbb48747b3d228fd3": {
          "model_module": "@jupyter-widgets/controls",
          "model_name": "DescriptionStyleModel",
          "model_module_version": "1.5.0",
          "state": {
            "_model_module": "@jupyter-widgets/controls",
            "_model_module_version": "1.5.0",
            "_model_name": "DescriptionStyleModel",
            "_view_count": null,
            "_view_module": "@jupyter-widgets/base",
            "_view_module_version": "1.2.0",
            "_view_name": "StyleView",
            "description_width": ""
          }
        },
        "f0323f73fa0f497da92ddfc9fd6a767e": {
          "model_module": "@jupyter-widgets/base",
          "model_name": "LayoutModel",
          "model_module_version": "1.2.0",
          "state": {
            "_model_module": "@jupyter-widgets/base",
            "_model_module_version": "1.2.0",
            "_model_name": "LayoutModel",
            "_view_count": null,
            "_view_module": "@jupyter-widgets/base",
            "_view_module_version": "1.2.0",
            "_view_name": "LayoutView",
            "align_content": null,
            "align_items": null,
            "align_self": null,
            "border": null,
            "bottom": null,
            "display": null,
            "flex": null,
            "flex_flow": null,
            "grid_area": null,
            "grid_auto_columns": null,
            "grid_auto_flow": null,
            "grid_auto_rows": null,
            "grid_column": null,
            "grid_gap": null,
            "grid_row": null,
            "grid_template_areas": null,
            "grid_template_columns": null,
            "grid_template_rows": null,
            "height": null,
            "justify_content": null,
            "justify_items": null,
            "left": null,
            "margin": null,
            "max_height": null,
            "max_width": null,
            "min_height": null,
            "min_width": null,
            "object_fit": null,
            "object_position": null,
            "order": null,
            "overflow": null,
            "overflow_x": null,
            "overflow_y": null,
            "padding": null,
            "right": null,
            "top": null,
            "visibility": null,
            "width": null
          }
        },
        "52fa38b1d1294ab1a38a4d08b3cb20c1": {
          "model_module": "@jupyter-widgets/controls",
          "model_name": "DescriptionStyleModel",
          "model_module_version": "1.5.0",
          "state": {
            "_model_module": "@jupyter-widgets/controls",
            "_model_module_version": "1.5.0",
            "_model_name": "DescriptionStyleModel",
            "_view_count": null,
            "_view_module": "@jupyter-widgets/base",
            "_view_module_version": "1.2.0",
            "_view_name": "StyleView",
            "description_width": ""
          }
        },
        "a4578eb6771345dea5f3159fca2aa35b": {
          "model_module": "@jupyter-widgets/base",
          "model_name": "LayoutModel",
          "model_module_version": "1.2.0",
          "state": {
            "_model_module": "@jupyter-widgets/base",
            "_model_module_version": "1.2.0",
            "_model_name": "LayoutModel",
            "_view_count": null,
            "_view_module": "@jupyter-widgets/base",
            "_view_module_version": "1.2.0",
            "_view_name": "LayoutView",
            "align_content": null,
            "align_items": null,
            "align_self": null,
            "border": null,
            "bottom": null,
            "display": null,
            "flex": null,
            "flex_flow": null,
            "grid_area": null,
            "grid_auto_columns": null,
            "grid_auto_flow": null,
            "grid_auto_rows": null,
            "grid_column": null,
            "grid_gap": null,
            "grid_row": null,
            "grid_template_areas": null,
            "grid_template_columns": null,
            "grid_template_rows": null,
            "height": null,
            "justify_content": null,
            "justify_items": null,
            "left": null,
            "margin": null,
            "max_height": null,
            "max_width": null,
            "min_height": null,
            "min_width": null,
            "object_fit": null,
            "object_position": null,
            "order": null,
            "overflow": null,
            "overflow_x": null,
            "overflow_y": null,
            "padding": null,
            "right": null,
            "top": null,
            "visibility": null,
            "width": null
          }
        },
        "6e3884683c1f484da4567081e968b547": {
          "model_module": "@jupyter-widgets/controls",
          "model_name": "ButtonStyleModel",
          "model_module_version": "1.5.0",
          "state": {
            "_model_module": "@jupyter-widgets/controls",
            "_model_module_version": "1.5.0",
            "_model_name": "ButtonStyleModel",
            "_view_count": null,
            "_view_module": "@jupyter-widgets/base",
            "_view_module_version": "1.2.0",
            "_view_name": "StyleView",
            "button_color": null,
            "font_weight": ""
          }
        },
        "96793f55e2474ae4bdf9811dfeae83a3": {
          "model_module": "@jupyter-widgets/base",
          "model_name": "LayoutModel",
          "model_module_version": "1.2.0",
          "state": {
            "_model_module": "@jupyter-widgets/base",
            "_model_module_version": "1.2.0",
            "_model_name": "LayoutModel",
            "_view_count": null,
            "_view_module": "@jupyter-widgets/base",
            "_view_module_version": "1.2.0",
            "_view_name": "LayoutView",
            "align_content": null,
            "align_items": null,
            "align_self": null,
            "border": null,
            "bottom": null,
            "display": null,
            "flex": null,
            "flex_flow": null,
            "grid_area": null,
            "grid_auto_columns": null,
            "grid_auto_flow": null,
            "grid_auto_rows": null,
            "grid_column": null,
            "grid_gap": null,
            "grid_row": null,
            "grid_template_areas": null,
            "grid_template_columns": null,
            "grid_template_rows": null,
            "height": null,
            "justify_content": null,
            "justify_items": null,
            "left": null,
            "margin": null,
            "max_height": null,
            "max_width": null,
            "min_height": null,
            "min_width": null,
            "object_fit": null,
            "object_position": null,
            "order": null,
            "overflow": null,
            "overflow_x": null,
            "overflow_y": null,
            "padding": null,
            "right": null,
            "top": null,
            "visibility": null,
            "width": null
          }
        },
        "f17b90bea6644c9582ecc82961a93172": {
          "model_module": "@jupyter-widgets/controls",
          "model_name": "DescriptionStyleModel",
          "model_module_version": "1.5.0",
          "state": {
            "_model_module": "@jupyter-widgets/controls",
            "_model_module_version": "1.5.0",
            "_model_name": "DescriptionStyleModel",
            "_view_count": null,
            "_view_module": "@jupyter-widgets/base",
            "_view_module_version": "1.2.0",
            "_view_name": "StyleView",
            "description_width": ""
          }
        },
        "12c409bcc6f04345944155345395e0ed": {
          "model_module": "@jupyter-widgets/controls",
          "model_name": "LabelModel",
          "model_module_version": "1.5.0",
          "state": {
            "_dom_classes": [],
            "_model_module": "@jupyter-widgets/controls",
            "_model_module_version": "1.5.0",
            "_model_name": "LabelModel",
            "_view_count": null,
            "_view_module": "@jupyter-widgets/controls",
            "_view_module_version": "1.5.0",
            "_view_name": "LabelView",
            "description": "",
            "description_tooltip": null,
            "layout": "IPY_MODEL_689d9ea2d51e4715b734219eb24bf3e2",
            "placeholder": "​",
            "style": "IPY_MODEL_766f27cd665d4befa0f23e073ffbb641",
            "value": "Connecting..."
          }
        },
        "689d9ea2d51e4715b734219eb24bf3e2": {
          "model_module": "@jupyter-widgets/base",
          "model_name": "LayoutModel",
          "model_module_version": "1.2.0",
          "state": {
            "_model_module": "@jupyter-widgets/base",
            "_model_module_version": "1.2.0",
            "_model_name": "LayoutModel",
            "_view_count": null,
            "_view_module": "@jupyter-widgets/base",
            "_view_module_version": "1.2.0",
            "_view_name": "LayoutView",
            "align_content": null,
            "align_items": null,
            "align_self": null,
            "border": null,
            "bottom": null,
            "display": null,
            "flex": null,
            "flex_flow": null,
            "grid_area": null,
            "grid_auto_columns": null,
            "grid_auto_flow": null,
            "grid_auto_rows": null,
            "grid_column": null,
            "grid_gap": null,
            "grid_row": null,
            "grid_template_areas": null,
            "grid_template_columns": null,
            "grid_template_rows": null,
            "height": null,
            "justify_content": null,
            "justify_items": null,
            "left": null,
            "margin": null,
            "max_height": null,
            "max_width": null,
            "min_height": null,
            "min_width": null,
            "object_fit": null,
            "object_position": null,
            "order": null,
            "overflow": null,
            "overflow_x": null,
            "overflow_y": null,
            "padding": null,
            "right": null,
            "top": null,
            "visibility": null,
            "width": null
          }
        },
        "766f27cd665d4befa0f23e073ffbb641": {
          "model_module": "@jupyter-widgets/controls",
          "model_name": "DescriptionStyleModel",
          "model_module_version": "1.5.0",
          "state": {
            "_model_module": "@jupyter-widgets/controls",
            "_model_module_version": "1.5.0",
            "_model_name": "DescriptionStyleModel",
            "_view_count": null,
            "_view_module": "@jupyter-widgets/base",
            "_view_module_version": "1.2.0",
            "_view_name": "StyleView",
            "description_width": ""
          }
        },
        "4ab83044576c4afdac720703f84616cc": {
          "model_module": "@jupyter-widgets/controls",
          "model_name": "LabelModel",
          "model_module_version": "1.5.0",
          "state": {
            "_dom_classes": [],
            "_model_module": "@jupyter-widgets/controls",
            "_model_module_version": "1.5.0",
            "_model_name": "LabelModel",
            "_view_count": null,
            "_view_module": "@jupyter-widgets/controls",
            "_view_module_version": "1.5.0",
            "_view_name": "LabelView",
            "description": "",
            "description_tooltip": null,
            "layout": "IPY_MODEL_cee185e97a0c493a80608c018dcf9941",
            "placeholder": "​",
            "style": "IPY_MODEL_fa859751b5ce4109bd6d1d201d5111e2",
            "value": "Token is valid (permission: write)."
          }
        },
        "515b9a3325024bb5bc79ab2fc9a35970": {
          "model_module": "@jupyter-widgets/controls",
          "model_name": "LabelModel",
          "model_module_version": "1.5.0",
          "state": {
            "_dom_classes": [],
            "_model_module": "@jupyter-widgets/controls",
            "_model_module_version": "1.5.0",
            "_model_name": "LabelModel",
            "_view_count": null,
            "_view_module": "@jupyter-widgets/controls",
            "_view_module_version": "1.5.0",
            "_view_name": "LabelView",
            "description": "",
            "description_tooltip": null,
            "layout": "IPY_MODEL_852ad91eeb0c4a9590141098d2b25a2f",
            "placeholder": "​",
            "style": "IPY_MODEL_995bbdc281ab4e8f9d2f97cc5f4ad9c3",
            "value": "Your token has been saved in your configured git credential helpers (store)."
          }
        },
        "cd89f6332ba346f4b08012fa5777a7e0": {
          "model_module": "@jupyter-widgets/controls",
          "model_name": "LabelModel",
          "model_module_version": "1.5.0",
          "state": {
            "_dom_classes": [],
            "_model_module": "@jupyter-widgets/controls",
            "_model_module_version": "1.5.0",
            "_model_name": "LabelModel",
            "_view_count": null,
            "_view_module": "@jupyter-widgets/controls",
            "_view_module_version": "1.5.0",
            "_view_name": "LabelView",
            "description": "",
            "description_tooltip": null,
            "layout": "IPY_MODEL_8973cd217ba74f7e96e61fe3e79f9bdf",
            "placeholder": "​",
            "style": "IPY_MODEL_89a8f9b7306e4927a265b035c55aea4f",
            "value": "Your token has been saved to /root/.cache/huggingface/token"
          }
        },
        "ecf3be4859d540c3af026f021db09111": {
          "model_module": "@jupyter-widgets/controls",
          "model_name": "LabelModel",
          "model_module_version": "1.5.0",
          "state": {
            "_dom_classes": [],
            "_model_module": "@jupyter-widgets/controls",
            "_model_module_version": "1.5.0",
            "_model_name": "LabelModel",
            "_view_count": null,
            "_view_module": "@jupyter-widgets/controls",
            "_view_module_version": "1.5.0",
            "_view_name": "LabelView",
            "description": "",
            "description_tooltip": null,
            "layout": "IPY_MODEL_5dcd6d2b2e8342c891d15fc78a9f6f20",
            "placeholder": "​",
            "style": "IPY_MODEL_135ac04cec8446d7b1c9cd985d1cfb7f",
            "value": "Login successful"
          }
        },
        "cee185e97a0c493a80608c018dcf9941": {
          "model_module": "@jupyter-widgets/base",
          "model_name": "LayoutModel",
          "model_module_version": "1.2.0",
          "state": {
            "_model_module": "@jupyter-widgets/base",
            "_model_module_version": "1.2.0",
            "_model_name": "LayoutModel",
            "_view_count": null,
            "_view_module": "@jupyter-widgets/base",
            "_view_module_version": "1.2.0",
            "_view_name": "LayoutView",
            "align_content": null,
            "align_items": null,
            "align_self": null,
            "border": null,
            "bottom": null,
            "display": null,
            "flex": null,
            "flex_flow": null,
            "grid_area": null,
            "grid_auto_columns": null,
            "grid_auto_flow": null,
            "grid_auto_rows": null,
            "grid_column": null,
            "grid_gap": null,
            "grid_row": null,
            "grid_template_areas": null,
            "grid_template_columns": null,
            "grid_template_rows": null,
            "height": null,
            "justify_content": null,
            "justify_items": null,
            "left": null,
            "margin": null,
            "max_height": null,
            "max_width": null,
            "min_height": null,
            "min_width": null,
            "object_fit": null,
            "object_position": null,
            "order": null,
            "overflow": null,
            "overflow_x": null,
            "overflow_y": null,
            "padding": null,
            "right": null,
            "top": null,
            "visibility": null,
            "width": null
          }
        },
        "fa859751b5ce4109bd6d1d201d5111e2": {
          "model_module": "@jupyter-widgets/controls",
          "model_name": "DescriptionStyleModel",
          "model_module_version": "1.5.0",
          "state": {
            "_model_module": "@jupyter-widgets/controls",
            "_model_module_version": "1.5.0",
            "_model_name": "DescriptionStyleModel",
            "_view_count": null,
            "_view_module": "@jupyter-widgets/base",
            "_view_module_version": "1.2.0",
            "_view_name": "StyleView",
            "description_width": ""
          }
        },
        "852ad91eeb0c4a9590141098d2b25a2f": {
          "model_module": "@jupyter-widgets/base",
          "model_name": "LayoutModel",
          "model_module_version": "1.2.0",
          "state": {
            "_model_module": "@jupyter-widgets/base",
            "_model_module_version": "1.2.0",
            "_model_name": "LayoutModel",
            "_view_count": null,
            "_view_module": "@jupyter-widgets/base",
            "_view_module_version": "1.2.0",
            "_view_name": "LayoutView",
            "align_content": null,
            "align_items": null,
            "align_self": null,
            "border": null,
            "bottom": null,
            "display": null,
            "flex": null,
            "flex_flow": null,
            "grid_area": null,
            "grid_auto_columns": null,
            "grid_auto_flow": null,
            "grid_auto_rows": null,
            "grid_column": null,
            "grid_gap": null,
            "grid_row": null,
            "grid_template_areas": null,
            "grid_template_columns": null,
            "grid_template_rows": null,
            "height": null,
            "justify_content": null,
            "justify_items": null,
            "left": null,
            "margin": null,
            "max_height": null,
            "max_width": null,
            "min_height": null,
            "min_width": null,
            "object_fit": null,
            "object_position": null,
            "order": null,
            "overflow": null,
            "overflow_x": null,
            "overflow_y": null,
            "padding": null,
            "right": null,
            "top": null,
            "visibility": null,
            "width": null
          }
        },
        "995bbdc281ab4e8f9d2f97cc5f4ad9c3": {
          "model_module": "@jupyter-widgets/controls",
          "model_name": "DescriptionStyleModel",
          "model_module_version": "1.5.0",
          "state": {
            "_model_module": "@jupyter-widgets/controls",
            "_model_module_version": "1.5.0",
            "_model_name": "DescriptionStyleModel",
            "_view_count": null,
            "_view_module": "@jupyter-widgets/base",
            "_view_module_version": "1.2.0",
            "_view_name": "StyleView",
            "description_width": ""
          }
        },
        "8973cd217ba74f7e96e61fe3e79f9bdf": {
          "model_module": "@jupyter-widgets/base",
          "model_name": "LayoutModel",
          "model_module_version": "1.2.0",
          "state": {
            "_model_module": "@jupyter-widgets/base",
            "_model_module_version": "1.2.0",
            "_model_name": "LayoutModel",
            "_view_count": null,
            "_view_module": "@jupyter-widgets/base",
            "_view_module_version": "1.2.0",
            "_view_name": "LayoutView",
            "align_content": null,
            "align_items": null,
            "align_self": null,
            "border": null,
            "bottom": null,
            "display": null,
            "flex": null,
            "flex_flow": null,
            "grid_area": null,
            "grid_auto_columns": null,
            "grid_auto_flow": null,
            "grid_auto_rows": null,
            "grid_column": null,
            "grid_gap": null,
            "grid_row": null,
            "grid_template_areas": null,
            "grid_template_columns": null,
            "grid_template_rows": null,
            "height": null,
            "justify_content": null,
            "justify_items": null,
            "left": null,
            "margin": null,
            "max_height": null,
            "max_width": null,
            "min_height": null,
            "min_width": null,
            "object_fit": null,
            "object_position": null,
            "order": null,
            "overflow": null,
            "overflow_x": null,
            "overflow_y": null,
            "padding": null,
            "right": null,
            "top": null,
            "visibility": null,
            "width": null
          }
        },
        "89a8f9b7306e4927a265b035c55aea4f": {
          "model_module": "@jupyter-widgets/controls",
          "model_name": "DescriptionStyleModel",
          "model_module_version": "1.5.0",
          "state": {
            "_model_module": "@jupyter-widgets/controls",
            "_model_module_version": "1.5.0",
            "_model_name": "DescriptionStyleModel",
            "_view_count": null,
            "_view_module": "@jupyter-widgets/base",
            "_view_module_version": "1.2.0",
            "_view_name": "StyleView",
            "description_width": ""
          }
        },
        "5dcd6d2b2e8342c891d15fc78a9f6f20": {
          "model_module": "@jupyter-widgets/base",
          "model_name": "LayoutModel",
          "model_module_version": "1.2.0",
          "state": {
            "_model_module": "@jupyter-widgets/base",
            "_model_module_version": "1.2.0",
            "_model_name": "LayoutModel",
            "_view_count": null,
            "_view_module": "@jupyter-widgets/base",
            "_view_module_version": "1.2.0",
            "_view_name": "LayoutView",
            "align_content": null,
            "align_items": null,
            "align_self": null,
            "border": null,
            "bottom": null,
            "display": null,
            "flex": null,
            "flex_flow": null,
            "grid_area": null,
            "grid_auto_columns": null,
            "grid_auto_flow": null,
            "grid_auto_rows": null,
            "grid_column": null,
            "grid_gap": null,
            "grid_row": null,
            "grid_template_areas": null,
            "grid_template_columns": null,
            "grid_template_rows": null,
            "height": null,
            "justify_content": null,
            "justify_items": null,
            "left": null,
            "margin": null,
            "max_height": null,
            "max_width": null,
            "min_height": null,
            "min_width": null,
            "object_fit": null,
            "object_position": null,
            "order": null,
            "overflow": null,
            "overflow_x": null,
            "overflow_y": null,
            "padding": null,
            "right": null,
            "top": null,
            "visibility": null,
            "width": null
          }
        },
        "135ac04cec8446d7b1c9cd985d1cfb7f": {
          "model_module": "@jupyter-widgets/controls",
          "model_name": "DescriptionStyleModel",
          "model_module_version": "1.5.0",
          "state": {
            "_model_module": "@jupyter-widgets/controls",
            "_model_module_version": "1.5.0",
            "_model_name": "DescriptionStyleModel",
            "_view_count": null,
            "_view_module": "@jupyter-widgets/base",
            "_view_module_version": "1.2.0",
            "_view_name": "StyleView",
            "description_width": ""
          }
        }
      }
    }
  },
  "nbformat": 4,
  "nbformat_minor": 0
}